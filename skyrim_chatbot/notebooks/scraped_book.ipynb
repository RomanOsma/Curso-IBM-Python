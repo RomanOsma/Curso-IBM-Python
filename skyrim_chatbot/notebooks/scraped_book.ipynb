{
 "cells": [
  {
   "cell_type": "code",
   "execution_count": 1,
   "id": "b2a43956",
   "metadata": {},
   "outputs": [],
   "source": [
    "# Importamos las bibliotecas necesarias para el funcionamiento del script.\n",
    "# `requests`: Se utiliza para realizar solicitudes HTTP y obtener el contenido de páginas web.\n",
    "# `BeautifulSoup` (importado como `bs`): Es una herramienta poderosa para parsear y manipular documentos HTML/XML.\n",
    "# `pandas` (importado como `pd`): Se utiliza para manejar datos tabulares y crear DataFrames.\n",
    "# `numpy` (importado como `np`): Proporciona soporte para valores faltantes (`np.nan`) y operaciones numéricas.\n",
    "import requests\n",
    "from bs4 import BeautifulSoup as bs\n",
    "import pandas as pd\n",
    "import numpy as np"
   ]
  },
  {
   "cell_type": "code",
   "execution_count": 2,
   "id": "e9453464",
   "metadata": {},
   "outputs": [],
   "source": [
    "# Realizamos una solicitud GET a la página que contiene la lista de libros de Skyrim.\n",
    "# La respuesta contiene el contenido HTML de la página.\n",
    "html = requests.get('https://en.uesp.net/wiki/Skyrim:Books')\n",
    "\n",
    "# Parseamos el contenido HTML utilizando BeautifulSoup con el parser 'html.parser'.\n",
    "# Esto nos permite trabajar con el HTML de manera más estructurada y fácil de manipular.\n",
    "page = bs(html.content, 'html.parser')"
   ]
  },
  {
   "cell_type": "code",
   "execution_count": 3,
   "id": "bfc41b96",
   "metadata": {},
   "outputs": [],
   "source": [
    "# Buscamos todos los elementos `<tr>` dentro del HTML de la página.\n",
    "# Estos elementos representan las filas de la tabla que contiene la información de los libros.\n",
    "bookList = page.find_all('tr')\n",
    "\n",
    "# Eliminamos las primeras 7 filas, ya que contienen información no relevante (encabezados y otros detalles).\n",
    "bookList = bookList[7:]"
   ]
  },
  {
   "cell_type": "code",
   "execution_count": 4,
   "id": "485c21f9",
   "metadata": {},
   "outputs": [],
   "source": [
    "# Creamos una lista vacía llamada `bookTitles` para almacenar los títulos de los libros.\n",
    "bookTitles = []\n",
    "\n",
    "# Iteramos sobre cada fila en `bookList` para extraer los títulos.\n",
    "for book in bookList:\n",
    "    # Verificamos si la fila contiene una etiqueta `<b>` (negrita), que típicamente contiene el título del libro.\n",
    "    if book.b and book.b.text.strip():  # Aseguramos que el texto no esté vacío después de eliminar espacios.\n",
    "        bookTitles.append(book.b.text.strip())  # Agregamos el título a la lista.\n",
    "    else:\n",
    "        bookTitles.append(np.nan)  # Si no hay título, agregamos `np.nan` para indicar un valor faltante."
   ]
  },
  {
   "cell_type": "code",
   "execution_count": 5,
   "id": "edccfa9b",
   "metadata": {},
   "outputs": [],
   "source": [
    "# Creamos una lista vacía llamada `bookCosts` para almacenar los costos de los libros.\n",
    "bookCosts = []\n",
    "\n",
    "# Iteramos sobre cada fila en `bookList` para extraer los costos.\n",
    "for book in bookList:\n",
    "    cells = book.find_all('td')  # Encontramos todas las celdas (`<td>`) de la fila.\n",
    "    \n",
    "    if len(cells) > 2:  # Aseguramos que exista al menos una columna para el costo.\n",
    "        bookCosts.append(cells[2].text.strip())  # El costo está en la tercera columna (índice 2).\n",
    "    else:\n",
    "        bookCosts.append(np.nan)  # Si no hay suficientes columnas, agregamos `np.nan`."
   ]
  },
  {
   "cell_type": "code",
   "execution_count": 6,
   "id": "7d5a16f4",
   "metadata": {},
   "outputs": [],
   "source": [
    "# Creamos una lista vacía llamada `bookAuthors` para almacenar los autores de los libros.\n",
    "bookAuthors = []\n",
    "\n",
    "# Iteramos sobre cada fila en `bookList` para extraer los autores.\n",
    "for book in bookList:\n",
    "    cells = book.find_all('td')  # Encontramos todas las celdas (`<td>`) de la fila.\n",
    "    \n",
    "    if len(cells) > 3:  # Aseguramos que exista al menos una columna para el autor.\n",
    "        bookAuthors.append(cells[3].text.strip())  # El autor está en la cuarta columna (índice 3).\n",
    "    else:\n",
    "        bookAuthors.append(np.nan)  # Si no hay suficientes columnas, agregamos `np.nan`."
   ]
  },
  {
   "cell_type": "code",
   "execution_count": 7,
   "id": "f04996c2",
   "metadata": {},
   "outputs": [],
   "source": [
    "# Creamos una lista vacía llamada `bookDescriptions` para almacenar las descripciones de los libros.\n",
    "bookDescriptions = []\n",
    "\n",
    "# Iteramos sobre cada fila en `bookList` para extraer las descripciones.\n",
    "for book in bookList:\n",
    "    cells = book.find_all('td')  # Encontramos todas las celdas (`<td>`) de la fila.\n",
    "    \n",
    "    if len(cells) > 4:  # Aseguramos que exista al menos una columna para la descripción.\n",
    "        bookDescriptions.append(cells[4].text.strip())  # La descripción está en la quinta columna (índice 4).\n",
    "    else:\n",
    "        bookDescriptions.append(np.nan)  # Si no hay suficientes columnas, agregamos `np.nan`."
   ]
  },
  {
   "cell_type": "code",
   "execution_count": 8,
   "id": "9cce1260",
   "metadata": {},
   "outputs": [],
   "source": [
    "# Creamos una lista vacía llamada `bookSkill` para almacenar información sobre si un libro es de habilidades.\n",
    "bookSkill = []\n",
    "\n",
    "# Iteramos sobre cada fila en `bookList` para determinar si un libro es de habilidades.\n",
    "for book in bookList:\n",
    "    cells = book.find_all('td')  # Encontramos todas las celdas (`<td>`) de la fila.\n",
    "    \n",
    "    if len(cells) == 6:  # Los libros de habilidades tienen exactamente 6 columnas.\n",
    "        bookSkill.append(cells[5].text.strip())  # La información de habilidad está en la sexta columna (índice 5).\n",
    "    else:\n",
    "        bookSkill.append(np.nan)  # Si no hay suficientes columnas, agregamos `np.nan`."
   ]
  },
  {
   "cell_type": "code",
   "execution_count": 9,
   "id": "7f27e123",
   "metadata": {},
   "outputs": [
    {
     "name": "stdout",
     "output_type": "stream",
     "text": [
      "533 records in 'bookTitles'\n",
      "533 records in 'bookCosts'\n",
      "533 records in 'bookAuthors'\n",
      "533 records in 'bookDescriptions'\n",
      "533 records in 'bookSkill'\n"
     ]
    }
   ],
   "source": [
    "# Verificamos que todas las listas tengan la misma longitud antes de crear el DataFrame.\n",
    "print(f\"{len(bookTitles)} records in 'bookTitles'\")\n",
    "print(f\"{len(bookCosts)} records in 'bookCosts'\")\n",
    "print(f\"{len(bookAuthors)} records in 'bookAuthors'\")\n",
    "print(f\"{len(bookDescriptions)} records in 'bookDescriptions'\")\n",
    "print(f\"{len(bookSkill)} records in 'bookSkill'\")"
   ]
  },
  {
   "cell_type": "code",
   "execution_count": 10,
   "id": "249dd201",
   "metadata": {},
   "outputs": [
    {
     "name": "stdout",
     "output_type": "stream",
     "text": [
      "                           Title Cost            Author  \\\n",
      "0   16 Accords of Madness, v. VI   25                     \n",
      "1   16 Accords of Madness, v. IX   25                     \n",
      "2  16 Accords of Madness, v. XII   25                     \n",
      "3         2920, Morning Star, v1   50  Carlovac Townway   \n",
      "4           2920, Sun's Dawn, v2   60  Carlovac Townway   \n",
      "\n",
      "                                         Description                  Skill  \n",
      "0                                     Hircine's Tale                         \n",
      "1                                    Vaermina's Tale                         \n",
      "2                                    Malacath's Tale                         \n",
      "3  Volume 1 of a historical series about Vivec an...  One-handed skill book  \n",
      "4  Volume 2 of a historical series about Vivec an...    Illusion skill book  \n"
     ]
    }
   ],
   "source": [
    "# Creamos un DataFrame de Pandas combinando todas las listas extraídas.\n",
    "df = pd.DataFrame({\n",
    "    'Title': bookTitles,\n",
    "    'Cost': bookCosts,\n",
    "    'Author': bookAuthors,\n",
    "    'Description': bookDescriptions,\n",
    "    'Skill': bookSkill\n",
    "})\n",
    "\n",
    "# Inspeccionamos las primeras filas del DataFrame para verificar su estructura.\n",
    "print(df.head())"
   ]
  },
  {
   "cell_type": "code",
   "execution_count": 11,
   "id": "e0f3f979",
   "metadata": {},
   "outputs": [
    {
     "name": "stdout",
     "output_type": "stream",
     "text": [
      "                           Title Cost            Author  \\\n",
      "0   16 Accords of Madness, v. VI   25                     \n",
      "1   16 Accords of Madness, v. IX   25                     \n",
      "2  16 Accords of Madness, v. XII   25                     \n",
      "3         2920, Morning Star, v1   50  Carlovac Townway   \n",
      "4           2920, Sun's Dawn, v2   60  Carlovac Townway   \n",
      "\n",
      "                                         Description  Skill  \n",
      "0                                     Hircine's Tale      0  \n",
      "1                                    Vaermina's Tale      0  \n",
      "2                                    Malacath's Tale      0  \n",
      "3  Volume 1 of a historical series about Vivec an...      1  \n",
      "4  Volume 2 of a historical series about Vivec an...      1  \n"
     ]
    }
   ],
   "source": [
    "# Convertimos los valores de la columna 'Skill' a números para facilitar el análisis.\n",
    "# Si el texto contiene \"skill book\", asignamos 1; de lo contrario, asignamos 0.\n",
    "df['Skill'] = df['Skill'].apply(lambda x: 1 if isinstance(x, str) and \"skill book\" in x.lower() else 0)\n",
    "\n",
    "# Inspeccionamos las primeras filas del DataFrame para verificar los cambios en la columna 'Skill'.\n",
    "print(df.head(5))"
   ]
  },
  {
   "cell_type": "code",
   "execution_count": 12,
   "id": "d8fae36b",
   "metadata": {},
   "outputs": [],
   "source": [
    "# Guardamos el DataFrame en un archivo CSV llamado 'skyrim_books.csv'.\n",
    "# Usamos `index=False` para evitar guardar la columna de índice.\n",
    "df.to_csv('skyrim_books.csv', index=False)"
   ]
  }
 ],
 "metadata": {
  "kernelspec": {
   "display_name": "Python 3",
   "language": "python",
   "name": "python3"
  },
  "language_info": {
   "codemirror_mode": {
    "name": "ipython",
    "version": 3
   },
   "file_extension": ".py",
   "mimetype": "text/x-python",
   "name": "python",
   "nbconvert_exporter": "python",
   "pygments_lexer": "ipython3",
   "version": "3.12.3"
  }
 },
 "nbformat": 4,
 "nbformat_minor": 5
}
